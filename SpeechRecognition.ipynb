{
 "cells": [
  {
   "cell_type": "code",
   "execution_count": 1,
   "id": "3ec153bd",
   "metadata": {},
   "outputs": [
    {
     "name": "stdout",
     "output_type": "stream",
     "text": [
      "Requirement already satisfied: SpeechRecognition in c:\\users\\jeet bhatt\\anaconda3\\lib\\site-packages (3.8.1)\n",
      "Note: you may need to restart the kernel to use updated packages.\n"
     ]
    }
   ],
   "source": [
    "pip install SpeechRecognition"
   ]
  },
  {
   "cell_type": "code",
   "execution_count": 2,
   "id": "5087e7e4",
   "metadata": {},
   "outputs": [
    {
     "name": "stdout",
     "output_type": "stream",
     "text": [
      "Requirement already satisfied: pyttsx3 in c:\\users\\jeet bhatt\\anaconda3\\lib\\site-packages (2.90)\n",
      "Requirement already satisfied: comtypes in c:\\users\\jeet bhatt\\anaconda3\\lib\\site-packages (from pyttsx3) (1.1.10)\n",
      "Requirement already satisfied: pywin32 in c:\\users\\jeet bhatt\\anaconda3\\lib\\site-packages (from pyttsx3) (302)\n",
      "Requirement already satisfied: pypiwin32 in c:\\users\\jeet bhatt\\anaconda3\\lib\\site-packages (from pyttsx3) (223)\n",
      "Note: you may need to restart the kernel to use updated packages.\n"
     ]
    }
   ],
   "source": [
    "pip install pyttsx3"
   ]
  },
  {
   "cell_type": "code",
   "execution_count": 3,
   "id": "531530e4",
   "metadata": {},
   "outputs": [
    {
     "name": "stdout",
     "output_type": "stream",
     "text": [
      "Requirement already satisfied: PyAudio in c:\\users\\jeet bhatt\\anaconda3\\lib\\site-packages (0.2.12)\n",
      "Note: you may need to restart the kernel to use updated packages.\n"
     ]
    }
   ],
   "source": [
    "pip install PyAudio"
   ]
  },
  {
   "cell_type": "code",
   "execution_count": 4,
   "id": "335cb4df",
   "metadata": {},
   "outputs": [],
   "source": [
    "#import\n",
    "\n",
    "import speech_recognition\n",
    "import pyttsx3"
   ]
  },
  {
   "cell_type": "code",
   "execution_count": 5,
   "id": "23e5562c",
   "metadata": {},
   "outputs": [
    {
     "name": "stdout",
     "output_type": "stream",
     "text": [
      "keep silence\n",
      "Please Speak Now....\n",
      "Did you said :  hello all\n"
     ]
    }
   ],
   "source": [
    "speech_recog = speech_recognition.Recognizer()\n",
    "\n",
    "with speech_recognition.Microphone() as src:\n",
    "    print(\"keep silence\")\n",
    "    speech_recog.adjust_for_ambient_noise(src,duration=2)\n",
    "    print(\"Please Speak Now....\")\n",
    "    audio = speech_recog.listen(src)\n",
    "    text = speech_recog.recognize_google(audio)\n",
    "    text = text.lower()\n",
    "    \n",
    "    print(\"Did you said : \", text)"
   ]
  },
  {
   "cell_type": "code",
   "execution_count": 6,
   "id": "5d304a1d",
   "metadata": {},
   "outputs": [],
   "source": [
    "def speak(cmd):\n",
    "    voice = pyttsx3.init()\n",
    "    voice.say(cmd)\n",
    "    voice.runAndWait()"
   ]
  },
  {
   "cell_type": "code",
   "execution_count": null,
   "id": "d1e425e0",
   "metadata": {},
   "outputs": [
    {
     "name": "stdout",
     "output_type": "stream",
     "text": [
      "keep silence\n",
      "Please Speak Now....\n",
      "Did you said :  hello this is jeet and we are talking about speech recognition\n"
     ]
    }
   ],
   "source": [
    "speech_recog = speech_recognition.Recognizer()\n",
    "\n",
    "with speech_recognition.Microphone() as src:\n",
    "    print(\"keep silence\")\n",
    "    speech_recog.adjust_for_ambient_noise(src,duration=2)\n",
    "    print(\"Please Speak Now....\")\n",
    "    audio = speech_recog.listen(src)\n",
    "    text = speech_recog.recognize_google(audio)\n",
    "    text = text.lower()\n",
    "    \n",
    "    print(\"Did you said : \", text)\n",
    "    speak(text)"
   ]
  },
  {
   "cell_type": "code",
   "execution_count": null,
   "id": "1168cc20",
   "metadata": {},
   "outputs": [],
   "source": []
  }
 ],
 "metadata": {
  "kernelspec": {
   "display_name": "Python 3 (ipykernel)",
   "language": "python",
   "name": "python3"
  },
  "language_info": {
   "codemirror_mode": {
    "name": "ipython",
    "version": 3
   },
   "file_extension": ".py",
   "mimetype": "text/x-python",
   "name": "python",
   "nbconvert_exporter": "python",
   "pygments_lexer": "ipython3",
   "version": "3.9.7"
  }
 },
 "nbformat": 4,
 "nbformat_minor": 5
}
