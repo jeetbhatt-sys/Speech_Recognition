{
 "cells": [
  {
   "cell_type": "code",
   "execution_count": 1,
   "id": "39fab979",
   "metadata": {},
   "outputs": [],
   "source": [
    "import speech_recognition\n",
    "import pyttsx3\n",
    "import webbrowser"
   ]
  },
  {
   "cell_type": "code",
   "execution_count": 2,
   "id": "50dc3842",
   "metadata": {},
   "outputs": [
    {
     "name": "stdout",
     "output_type": "stream",
     "text": [
      "Please Say something to open....\n",
      "Listening ... : \n",
      "You asked to open :  www.youtube.com\n"
     ]
    }
   ],
   "source": [
    "if __name__ == \"__main__\":\n",
    "    #browser_path = \"C:/Program Files (x86)/Microsoft/Edge/Application/msedge.exe %s\"\n",
    "    browser_path = \"C:/Program Files/Google/Chrome/Application/chrome.exe %s\"\n",
    "    speech_recog = speech_recognition.Recognizer()\n",
    "    \n",
    "    with speech_recognition.Microphone() as src:\n",
    "        speech_recog.adjust_for_ambient_noise(src)\n",
    "        print(\"Please Say something to open....\")\n",
    "        audio = speech_recog.listen(src)\n",
    "        print(\"Listening ... : \")\n",
    "        \n",
    "        try:\n",
    "            dest = speech_recog.recognize_google(audio)\n",
    "            \n",
    "            print(\"You asked to open : \", dest)\n",
    "            \n",
    "            webbrowser.get(browser_path).open(dest,new=True)\n",
    "        except Exception as e:\n",
    "            print(\"Error : \", str(e))"
   ]
  },
  {
   "cell_type": "code",
   "execution_count": null,
   "id": "7a88d2a5",
   "metadata": {},
   "outputs": [],
   "source": []
  }
 ],
 "metadata": {
  "kernelspec": {
   "display_name": "Python 3 (ipykernel)",
   "language": "python",
   "name": "python3"
  },
  "language_info": {
   "codemirror_mode": {
    "name": "ipython",
    "version": 3
   },
   "file_extension": ".py",
   "mimetype": "text/x-python",
   "name": "python",
   "nbconvert_exporter": "python",
   "pygments_lexer": "ipython3",
   "version": "3.9.7"
  }
 },
 "nbformat": 4,
 "nbformat_minor": 5
}
